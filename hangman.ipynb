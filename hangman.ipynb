{
 "cells": [
  {
   "cell_type": "code",
   "execution_count": null,
   "id": "f305a389",
   "metadata": {},
   "outputs": [],
   "source": [
    "\"\"\"\n",
    "NOT UPDATED\n",
    "FINISHED VERSION IN .py FILE\n",
    "\"\"\""
   ]
  },
  {
   "cell_type": "code",
   "execution_count": 68,
   "id": "194e416f-e098-43e9-8e5b-a17a92825761",
   "metadata": {},
   "outputs": [],
   "source": [
    "import random"
   ]
  },
  {
   "cell_type": "code",
   "execution_count": 103,
   "id": "a7a7c7d4-eaed-4ed6-928b-a199b4bec44d",
   "metadata": {},
   "outputs": [
    {
     "name": "stderr",
     "output_type": "stream",
     "text": [
      "<>:3: SyntaxWarning: invalid escape sequence '\\ '\n",
      "<>:3: SyntaxWarning: invalid escape sequence '\\ '\n",
      "/var/folders/3j/f7d6p9t136x34vdmdy30wrrc0000gn/T/ipykernel_5238/2128637409.py:3: SyntaxWarning: invalid escape sequence '\\ '\n",
      "  \"\"\"\n"
     ]
    }
   ],
   "source": [
    "def main():\n",
    "    \n",
    "    \"\"\"\n",
    "        X\n",
    "       /|\\ \n",
    "        |\n",
    "       / \\ \n",
    "       \n",
    "    \"\"\"\n",
    "    \n",
    "    print(\"\"\"\n",
    "    \n",
    "    Welcome to Hangman! \n",
    "    \n",
    "    Computer has randomly generated a word, you have to guess letter by letter what the generated word is.\n",
    "    Every time you guess a letter, you are given the opportunity to guess the word.\n",
    "    You win if you guess the word, or all the letters in the word.\n",
    "    If you try to guess and fail, someone might get hurt.\n",
    "    \n",
    "    Guess correctly and no one will be hurt :)\n",
    "    \n",
    "    Guess incorrectly 5 times and someone will likely get hurt.\n",
    "    \"\"\")\n",
    "    word = new_word()\n",
    "    searchable_word = searchify_word(word)\n",
    "    userlives = 5\n",
    "    guessed = False\n",
    "    p1_guess = generate_empty_guess(word)\n",
    "    while True:\n",
    "        if userlives > 0:\n",
    "            guessed, p1_guess = guess_letter(searchable_word, p1_guess)\n",
    "        if guessed == False and userlives > 0:\n",
    "            userlives = wrong_guess(userlives, p1_guess)\n",
    "        elif \"\".join(p1_guess) == word: # player wins \n",
    "            playerwins(word)\n",
    "            return\n",
    "        elif userlives == 0: # player loses\n",
    "            print(f\"You have {userlives} opportunities left. You LOSE. He loses more. \\n\\n The word was {word}\")\n",
    "            printhangman(userlives)\n",
    "            break\n",
    "        else: # player guessed a letter but hasn't won yet\n",
    "            print(f\"{userlives} opportunities left\")\n",
    "            while True: # ask the player if they would like to guess the word\n",
    "                finalguess = input(\"Do you want to try to guess the word or keep with letters? (word/letter)\")\n",
    "                if finalguess == \"word\":\n",
    "                    wordguess = input(\"Guess the word (in lower cases): \")\n",
    "                    if wordguess == word:\n",
    "                        playerwins(word)\n",
    "                        return\n",
    "                    else:\n",
    "                        userlives = wrong_guess(userlives, p1_guess)\n",
    "                        print(\"That wasn't the right word. Someone is kinda getting hurt...\")\n",
    "                        guessed = False\n",
    "                        break\n",
    "                elif finalguess == \"letter\":\n",
    "                    guessed = False\n",
    "                    break"
   ]
  },
  {
   "cell_type": "code",
   "execution_count": 84,
   "id": "b855a000-0e96-4708-ae2a-4e7a8b843edb",
   "metadata": {},
   "outputs": [],
   "source": [
    "def generate_empty_guess(word):\n",
    "    \"\"\"\n",
    "    Generates empty guess board, a list of as many _ as letters has the word chosen by the computer.\n",
    "    \"\"\"\n",
    "    emptyguess = []\n",
    "    for letter in word:\n",
    "        emptyguess.append(\"_\")\n",
    "    return emptyguess"
   ]
  },
  {
   "cell_type": "code",
   "execution_count": 85,
   "id": "2f5d6071-066a-46c3-b998-10417b7e6b6c",
   "metadata": {},
   "outputs": [],
   "source": [
    "def guess_letter(wordtplst, p1_guess):\n",
    "    \"\"\"\n",
    "    Asks the user for a letter and checks if the letter is in the computer-chosen word\n",
    "    \"\"\"\n",
    "    while True:\n",
    "        guessed = False\n",
    "        p1letter = input(\"What's your guess? (write a single letter in low cases) \")\n",
    "        if len(p1letter) == 1 and p1letter.isalpha():\n",
    "            p1letter = p1letter.lower()\n",
    "            for lettertpl in wordtplst:\n",
    "                if p1letter == lettertpl[1]:\n",
    "                    p1_guess[lettertpl[0]] = p1letter\n",
    "                    guessed = True\n",
    "            if guessed == True:\n",
    "                print(f\"You found a letter! :) \\n Current progress: {p1_guess}\")\n",
    "                return True, p1_guess\n",
    "            else:\n",
    "                print(f\"The letter {p1letter} is not in the answer... \")\n",
    "                return False, p1_guess\n",
    "        else:\n",
    "            print(f\"You didn't provide a valid input, don't try to cheat! \\n\")"
   ]
  },
  {
   "cell_type": "code",
   "execution_count": 86,
   "id": "0e993668-3b9d-436c-b69e-1460e92bd70e",
   "metadata": {},
   "outputs": [],
   "source": [
    "def new_word():\n",
    "    \"\"\"\n",
    "    Chooses a random word from a given list. All words are all lower cases.\n",
    "    \"\"\"\n",
    "    f = open(\"words.txt\", \"r\")\n",
    "    wordlist = f.read().split(\"\\n\")\n",
    "    word = random.choice(wordlist)\n",
    "    return word"
   ]
  },
  {
   "cell_type": "code",
   "execution_count": 87,
   "id": "30eb66af",
   "metadata": {},
   "outputs": [],
   "source": [
    "def searchify_word(word):\n",
    "    \"\"\"\n",
    "    Returns the word as a list of tuples where each tuple[0] is the index and each tuple[1] is the letter. \n",
    "    E.g:\n",
    "    for twelfth\n",
    "    returns [(0, 't'), (1, 'w'), (2, 'e'), (3, 'l'), (4, 'f'), (5, 't'), (6, 'h')]\n",
    "    \"\"\"\n",
    "    wordlst = []\n",
    "    for index,letter in enumerate(word):\n",
    "        wordlst.append((index, letter))\n",
    "    return wordlst"
   ]
  },
  {
   "cell_type": "code",
   "execution_count": 88,
   "id": "eda888d0-7613-4437-8c8a-5b4ed80978f6",
   "metadata": {},
   "outputs": [],
   "source": [
    "def wrong_guess(userlives, p1_guess):\n",
    "    userlives -= 1\n",
    "    if userlives > 0:\n",
    "        printhangman(userlives)\n",
    "        print(f\"You have {userlives} opportunities left\")\n",
    "        print(f\"Current progress: {p1_guess}\")\n",
    "    return userlives"
   ]
  },
  {
   "cell_type": "code",
   "execution_count": 89,
   "id": "8c999e36",
   "metadata": {
    "scrolled": true
   },
   "outputs": [
    {
     "name": "stderr",
     "output_type": "stream",
     "text": [
      "<>:31: SyntaxWarning: invalid escape sequence '\\ '\n",
      "<>:41: SyntaxWarning: invalid escape sequence '\\ '\n",
      "<>:51: SyntaxWarning: invalid escape sequence '\\ '\n",
      "<>:31: SyntaxWarning: invalid escape sequence '\\ '\n",
      "<>:41: SyntaxWarning: invalid escape sequence '\\ '\n",
      "<>:51: SyntaxWarning: invalid escape sequence '\\ '\n",
      "/var/folders/3j/f7d6p9t136x34vdmdy30wrrc0000gn/T/ipykernel_5238/3837126255.py:31: SyntaxWarning: invalid escape sequence '\\ '\n",
      "  \"\"\")\n",
      "/var/folders/3j/f7d6p9t136x34vdmdy30wrrc0000gn/T/ipykernel_5238/3837126255.py:41: SyntaxWarning: invalid escape sequence '\\ '\n",
      "  \"\"\")\n",
      "/var/folders/3j/f7d6p9t136x34vdmdy30wrrc0000gn/T/ipykernel_5238/3837126255.py:51: SyntaxWarning: invalid escape sequence '\\ '\n",
      "  \"\"\")\n"
     ]
    }
   ],
   "source": [
    "def printhangman(userlives):\n",
    "    if userlives == 4:\n",
    "        print(f\"\"\"\n",
    "               |------|\n",
    "               |      |      ---------------------\n",
    "               |      O -----| Excuse me!        | \n",
    "               |             | What's going on!? |\n",
    "               |             | HELP ME!!         |\n",
    "               |             ---------------------\n",
    "              ___     \n",
    "                  \"\"\")\n",
    "    elif userlives == 3:\n",
    "        print(f\"\"\"\n",
    "               |------|\n",
    "               |      |      ---------------------\n",
    "               |      O -----| Ok, listen here.  | \n",
    "               |     /|      | You need to focus.|\n",
    "               |             | PLEASE!!          |\n",
    "               |             ---------------------\n",
    "              ___     \n",
    "                  \"\"\")\n",
    "    elif userlives == 2:\n",
    "        print(f\"\"\"\n",
    "               |------|\n",
    "               |      |      -------------------------\n",
    "               |      O -----| No preasure, mate,    | \n",
    "               |     /|\\     | but I'm kinda hanging |\n",
    "               |             | on a thread here.     |\n",
    "               |             -------------------------\n",
    "              ___     \n",
    "                  \"\"\")\n",
    "    elif userlives == 1:\n",
    "        print(f\"\"\"\n",
    "               |------|\n",
    "               |      |      -----------------------\n",
    "               |      O -----| Omg just check a    | \n",
    "               |     /|\\     | dictionary or       |\n",
    "               |      |      | something.          |\n",
    "               |             -----------------------\n",
    "              ___     \n",
    "                  \"\"\")\n",
    "    elif userlives == 0:\n",
    "        print(f\"\"\"\n",
    "               |------|\n",
    "               |      |      ------------\n",
    "               |      X -----|   ...    | \n",
    "               |     /|\\     ------------\n",
    "               |      |      \n",
    "               |     / \\        \n",
    "              ___     \n",
    "                  \"\"\")"
   ]
  },
  {
   "cell_type": "code",
   "execution_count": 90,
   "id": "0d38dd5e-0e2f-4b60-b6dc-5856c7534a13",
   "metadata": {},
   "outputs": [
    {
     "name": "stderr",
     "output_type": "stream",
     "text": [
      "<>:13: SyntaxWarning: invalid escape sequence '\\ '\n",
      "<>:13: SyntaxWarning: invalid escape sequence '\\ '\n",
      "/var/folders/3j/f7d6p9t136x34vdmdy30wrrc0000gn/T/ipykernel_5238/264735791.py:13: SyntaxWarning: invalid escape sequence '\\ '\n",
      "  \"\"\")\n"
     ]
    }
   ],
   "source": [
    "def playerwins(word):\n",
    "    print(f\"\"\"Congratulations!\n",
    "        You guessed the word: {word}\n",
    "\n",
    "       !!!!!! YOU WIN !!!!!!\n",
    "                  \n",
    "                         ---------------\n",
    "                     O --| Thanks for  | \n",
    "                    /|\\  | saving me!! |\n",
    "                     |   ---------------  \n",
    "                     |\n",
    "                    / \\ \n",
    "                  \"\"\")"
   ]
  },
  {
   "cell_type": "code",
   "execution_count": 102,
   "id": "48599245-e3e2-447e-8d5d-90128ae988d1",
   "metadata": {
    "scrolled": true
   },
   "outputs": [
    {
     "name": "stdout",
     "output_type": "stream",
     "text": [
      "\n",
      "    \n",
      "    Welcome to Hangman! \n",
      "    \n",
      "    Computer has randomly generated a word, you have to guess letter by letter what the generated word is.\n",
      "    Every time you guess a letter, you are given the opportunity to guess the word.\n",
      "    You win if you guess the word, or all the letters in the word.\n",
      "    If you try to guess and fail, someone might get hurt.\n",
      "    \n",
      "    Guess correctly and no one will be hurt :)\n",
      "    \n",
      "    Guess incorrectly 5 times and someone will likely get hurt.\n",
      "    \n"
     ]
    },
    {
     "name": "stdout",
     "output_type": "stream",
     "text": [
      "What's your guess? (write a single letter in low cases)  a\n"
     ]
    },
    {
     "name": "stdout",
     "output_type": "stream",
     "text": [
      "The letter a is not in the answer... \n",
      "\n",
      "               |------|\n",
      "               |      |      ---------------------\n",
      "               |      O -----| Excuse me!        | \n",
      "               |             | What's going on!? |\n",
      "               |             | HELP ME!!         |\n",
      "               |             ---------------------\n",
      "              ___     \n",
      "                  \n",
      "You have 4 opportunities left\n",
      "Current progress: ['_', '_', '_', '_']\n"
     ]
    },
    {
     "name": "stdout",
     "output_type": "stream",
     "text": [
      "What's your guess? (write a single letter in low cases)  a\n"
     ]
    },
    {
     "name": "stdout",
     "output_type": "stream",
     "text": [
      "The letter a is not in the answer... \n",
      "\n",
      "               |------|\n",
      "               |      |      ---------------------\n",
      "               |      O -----| Ok, listen here.  | \n",
      "               |     /|      | You need to focus.|\n",
      "               |             | PLEASE!!          |\n",
      "               |             ---------------------\n",
      "              ___     \n",
      "                  \n",
      "You have 3 opportunities left\n",
      "Current progress: ['_', '_', '_', '_']\n"
     ]
    },
    {
     "name": "stdout",
     "output_type": "stream",
     "text": [
      "What's your guess? (write a single letter in low cases)  a\n"
     ]
    },
    {
     "name": "stdout",
     "output_type": "stream",
     "text": [
      "The letter a is not in the answer... \n",
      "\n",
      "               |------|\n",
      "               |      |      -------------------------\n",
      "               |      O -----| No preasure, mate,    | \n",
      "               |     /|\\     | but I'm kinda hanging |\n",
      "               |             | on a thread here.     |\n",
      "               |             -------------------------\n",
      "              ___     \n",
      "                  \n",
      "You have 2 opportunities left\n",
      "Current progress: ['_', '_', '_', '_']\n"
     ]
    },
    {
     "name": "stdout",
     "output_type": "stream",
     "text": [
      "What's your guess? (write a single letter in low cases)  a\n"
     ]
    },
    {
     "name": "stdout",
     "output_type": "stream",
     "text": [
      "The letter a is not in the answer... \n",
      "\n",
      "               |------|\n",
      "               |      |      -----------------------\n",
      "               |      O -----| Omg just check a    | \n",
      "               |     /|\\     | dictionary or       |\n",
      "               |      |      | something.          |\n",
      "               |             -----------------------\n",
      "              ___     \n",
      "                  \n",
      "You have 1 opportunities left\n",
      "Current progress: ['_', '_', '_', '_']\n"
     ]
    },
    {
     "name": "stdout",
     "output_type": "stream",
     "text": [
      "What's your guess? (write a single letter in low cases)  a\n"
     ]
    },
    {
     "name": "stdout",
     "output_type": "stream",
     "text": [
      "The letter a is not in the answer... \n",
      "You have 0 opportunities left. You LOSE. He loses more. \n",
      "\n",
      " The word was jinx\n",
      "\n",
      "               |------|\n",
      "               |      |      ------------\n",
      "               |      X -----|   ...    | \n",
      "               |     /|\\     ------------\n",
      "               |      |      \n",
      "               |     / \\        \n",
      "              ___     \n",
      "                  \n"
     ]
    }
   ],
   "source": [
    "main()"
   ]
  }
 ],
 "metadata": {
  "kernelspec": {
   "display_name": "base",
   "language": "python",
   "name": "python3"
  },
  "language_info": {
   "codemirror_mode": {
    "name": "ipython",
    "version": 3
   },
   "file_extension": ".py",
   "mimetype": "text/x-python",
   "name": "python",
   "nbconvert_exporter": "python",
   "pygments_lexer": "ipython3",
   "version": "3.12.7"
  }
 },
 "nbformat": 4,
 "nbformat_minor": 5
}
